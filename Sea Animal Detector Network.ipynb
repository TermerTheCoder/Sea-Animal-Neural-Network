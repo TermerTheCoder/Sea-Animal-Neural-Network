{
 "cells": [
  {
   "cell_type": "code",
   "execution_count": 1,
   "metadata": {},
   "outputs": [],
   "source": [
    "%matplotlib inline"
   ]
  },
  {
   "cell_type": "code",
   "execution_count": 2,
   "metadata": {},
   "outputs": [],
   "source": [
    "import numpy as np\n",
    "from matplotlib import pyplot as plt"
   ]
  },
  {
   "cell_type": "code",
   "execution_count": 3,
   "metadata": {},
   "outputs": [],
   "source": [
    "#each point plots length, if the animal has a blowhole(1 or 0), tooth size, and its identity vector\n",
    "#[0,0,0] is a fish, [0,0,1] is a dolphin, and [0,1,0] is a shark\n",
    "data = [[1   , 0       , 0.01],\n",
    "\t   [2    , 0       , 0.05],\n",
    "\t   [4    , 0       , 0.09],\n",
    "\t   [20   , 1       , 0.2],\n",
    "\t   [24   , 1       , 0.4],\n",
    "\t   [28   , 1       , 0.8],\n",
    "\t   [10   , 0       , 1],\n",
    "\t   [15   , 0       , 5],\n",
    "\t   [19   , 0       , 7]]\n",
    "\n",
    "target=       [[0, 0, 0],\n",
    "               [0, 0, 0],\n",
    "               [0, 0, 0],\n",
    "               [0, 0, 1],\n",
    "               [0, 0, 1],\n",
    "               [0, 0, 1],\n",
    "               [0, 1, 0],\n",
    "               [0, 1, 0],\n",
    "               [0, 1, 0],]\n",
    "\n",
    "fish = [0,0,0]\n",
    "dolphin = [0,0,1]\n",
    "shark = [0,1,0]"
   ]
  },
  {
   "cell_type": "code",
   "execution_count": 4,
   "metadata": {},
   "outputs": [],
   "source": [
    "#Sigmoid Activation Function\n",
    "def sigmoid(x):\n",
    "    return 1/(1+np.exp(-x))\n",
    "def sigmoid_d(x):\n",
    "    return sigmoid(x) * (1 - sigmoid(x))"
   ]
  },
  {
   "cell_type": "code",
   "execution_count": 5,
   "metadata": {},
   "outputs": [],
   "source": [
    "# Weights and biases\n",
    "layer1weights = np.random.randn(3,4)\n",
    "layer2weights = np.random.randn(4,3)\n",
    "b1 = np.random.randn(1,4)\n",
    "b2 = np.random.randn(1,3)"
   ]
  },
  {
   "cell_type": "code",
   "execution_count": 8,
   "metadata": {},
   "outputs": [],
   "source": [
    "learning_rate = .2\n",
    "costs=[]\n",
    "\n",
    "for i in range(50000):\n",
    "    # Random Points for training\n",
    "    ri = np.random.randint(len(data))\n",
    "    random_point = data[ri]\n",
    "    target_point = target[ri]\n",
    "    \n",
    "    # Feed Forward\n",
    "    z1 = np.dot(random_point, layer1weights) + b1\n",
    "    a1 = sigmoid(z1)\n",
    "    z2 = np.dot(a1, layer2weights) + b2\n",
    "    prediction = sigmoid(z2)\n",
    "    \n",
    "    # Training\n",
    "    cost = (np.square(prediction[0][0] - target_point[0]) + np.square(prediction[0][1] - target_point[1]))/2\n",
    "    costs.append(cost)\n",
    "    \n",
    "    # For layer output layer weights\n",
    "    dcost_dpred = 2 * (prediction[0] - target_point)\n",
    "    dpred_dz2 = sigmoid_d(z2)\n",
    "    dz2_dlayer2weights= a1.T\n",
    "    delta_layer2weights = np.dot(dz2_dlayer2weights, np.multiply(dcost_dpred, dpred_dz2))\n",
    "    \n",
    "    # For hidden layer weights\n",
    "    dz2_da1 = layer2weights.T\n",
    "    da1_dz1 = sigmoid_d(z1)\n",
    "    dz1_dw1 = np.matrix(random_point).T\n",
    "    delta_layer1weights = np.dot(dz1_dw1, np.multiply(np.dot(np.multiply(dcost_dpred, dpred_dz2), dz2_da1), da1_dz1))\n",
    "    \n",
    "    # For adjusting bias matrix b2:\n",
    "    delta_b2 = np.multiply(dcost_dpred, dpred_dz2)\n",
    "    \n",
    "    # For adjusting bias matrix b1:\n",
    "    delta_b1 = np.multiply(np.dot(np.multiply(dcost_dpred, dpred_dz2), dz2_da1), da1_dz1)\n",
    "    \n",
    "    # Weight Adjustments:\n",
    "    layer2weights -= np.multiply(learning_rate, delta_layer2weights)\n",
    "    layer1weights -= np.multiply(learning_rate, delta_layer1weights)\n",
    "    \n",
    "    # Bias Adjustments:\n",
    "    b2 -= np.multiply(learning_rate, delta_b2)\n",
    "    b1 -= np.multiply(learning_rate, delta_b1)\n",
    "    \n",
    "    # Used if every result needs to be printed.\n",
    "    \n",
    "    #rounded_prediction = np.around(prediction)\n",
    "    #if((np.array(target_point) == fish).all()):\n",
    "    #    print(\"Target: Fish\")\n",
    "    #elif((np.array(target_point) == dolphin).all()):\n",
    "    #    print(\"Target: Dolphin\")\n",
    "    #elif((np.array(target_point) == shark).all()):\n",
    "    #    print(\"Target: Shark\")\n",
    "    #if((rounded_prediction[0] == fish).all()):\n",
    "    #    print(\"Prediction: Fish\")\n",
    "    #elif((rounded_prediction[0] == dolphin).all()):\n",
    "    #    print(\"Prediction: Dolphin\")\n",
    "    #elif((rounded_prediction[0] == shark).all()):\n",
    "    #    print(\"Prediction: Shark\")\n",
    "    #else:\n",
    "    #    print(\"Prediction: Not sure\")\n",
    "    "
   ]
  },
  {
   "cell_type": "code",
   "execution_count": 9,
   "metadata": {},
   "outputs": [
    {
     "data": {
      "text/plain": [
       "[<matplotlib.lines.Line2D at 0x16e013e2808>]"
      ]
     },
     "execution_count": 9,
     "metadata": {},
     "output_type": "execute_result"
    },
    {
     "data": {
      "image/png": "[encoded data removed]",
      "text/plain": [
       "<Figure size 432x288 with 1 Axes>"
      ]
     },
     "metadata": {
      "needs_background": "light"
     },
     "output_type": "display_data"
    }
   ],
   "source": [
    "plt.plot(costs)"
   ]
  },
  {
   "cell_type": "code",
   "execution_count": null,
   "metadata": {},
   "outputs": [],
   "source": []
  }
 ],
 "metadata": {
  "kernelspec": {
   "display_name": "Python 3",
   "language": "python",
   "name": "python3"
  },
  "language_info": {
   "codemirror_mode": {
    "name": "ipython",
    "version": 3
   },
   "file_extension": ".py",
   "mimetype": "text/x-python",
   "name": "python",
   "nbconvert_exporter": "python",
   "pygments_lexer": "ipython3",
   "version": "3.7.5"
  }
 },
 "nbformat": 4,
 "nbformat_minor": 2
}
